{
 "cells": [
  {
   "cell_type": "code",
   "execution_count": 3,
   "id": "dff0bba9",
   "metadata": {},
   "outputs": [
    {
     "name": "stdout",
     "output_type": "stream",
     "text": [
      "Requirement already satisfied: nltk in c:\\users\\dell\\anaconda3\\lib\\site-packages (3.8.1)\n",
      "Requirement already satisfied: click in c:\\users\\dell\\anaconda3\\lib\\site-packages (from nltk) (8.0.4)\n",
      "Requirement already satisfied: joblib in c:\\users\\dell\\anaconda3\\lib\\site-packages (from nltk) (1.2.0)\n",
      "Requirement already satisfied: regex>=2021.8.3 in c:\\users\\dell\\anaconda3\\lib\\site-packages (from nltk) (2022.7.9)\n",
      "Requirement already satisfied: tqdm in c:\\users\\dell\\anaconda3\\lib\\site-packages (from nltk) (4.65.0)\n",
      "Requirement already satisfied: colorama in c:\\users\\dell\\anaconda3\\lib\\site-packages (from click->nltk) (0.4.6)\n",
      "Note: you may need to restart the kernel to use updated packages.\n"
     ]
    }
   ],
   "source": [
    "pip install nltk"
   ]
  },
  {
   "cell_type": "code",
   "execution_count": 1,
   "id": "e29d07c9",
   "metadata": {},
   "outputs": [],
   "source": [
    "import nltk\n",
    "from nltk.chat.util import Chat, reflections"
   ]
  },
  {
   "cell_type": "code",
   "execution_count": 2,
   "id": "1db9e003",
   "metadata": {},
   "outputs": [],
   "source": [
    "pairs = [\n",
    "    [\n",
    "        r\"Hello|Hi|Hey\",\n",
    "        [\"Hello, How are you today?\"]\n",
    "    ],\n",
    "    [\n",
    "        r\"Goodbye|Bye|See you later\",\n",
    "        [\"Goodbye! Have a great day!\"]\n",
    "    ],\n",
    "    [\n",
    "        r\"How are you?|How's it going?|What's up?\",\n",
    "        [\"I'm good, thank you! How about you?\"]\n",
    "    ],\n",
    "    [\n",
    "        r\"Thank you|Thanks|I appreciate it\",\n",
    "        [\"You're welcome!\", \"No problem!\", \"My pleasure!\"]\n",
    "    ],\n",
    "    [\n",
    "        r\"What does CodeAlpha offer?\",\n",
    "        [\"CodeAlpha offers online courses and virtual internships in various tech fields, including web development and app development. They also have an ambassador program and affiliate program.\"]\n",
    "    ],\n",
    "    [\n",
    "        r\"Is CodeAlpha legit?\",\n",
    "        [\"While CodeAlpha advertises itself as a leader in Ed-Tech, there are mixed reviews online. Some users report positive experiences, while others mention concerns about the quality of the program and difficulty obtaining certificates. It's recommended to do your research before enrolling.\"]\n",
    "    ],\n",
    "    [\n",
    "        r\"Are CodeAlpha internships real-world experience?\",\n",
    "        [\"The extent to which CodeAlpha internships translate to real-world experience is debatable. They claim to offer work on real projects, but some reviews suggest the projects may not be very substantial.\"]\n",
    "    ],\n",
    "    [\n",
    "        r\"How much does CodeAlpha cost?\",\n",
    "        [\"Specific pricing information is not readily available on their website. You might need to contact them directly for details on course and internship fees.\"]\n",
    "    ],\n",
    "    [\n",
    "        r\"Does CodeAlpha have a good alumni network?\",\n",
    "        [\"CodeAlpha emphasizes its strong alumni network, which supposedly offers career support and job help. However, the effectiveness of this network is difficult to verify independently.\"]\n",
    "    ],\n",
    "    [\n",
    "        r\"Is CodeAlpha a good fit for beginners?\",\n",
    "        [\"CodeAlpha doesn't explicitly state if their programs are designed specifically for beginners. It might be wise to check course curriculums or contact them to see if their offerings align with your skill level.\"]\n",
    "    ],\n",
    "    [\n",
    "        r\"What are the benefits of learning with CodeAlpha:?\",\n",
    "        [\"CodeAlpha highlights several benefits, including flexibility to learn at your own pace, lifetime access to course materials (if applicable)., Opportunity to build a portfolio through projects., potential connection to their alumni network.\"]\n",
    "    ],\n",
    "    [\n",
    "        r\"Are there any alternatives to CodeAlpha?\",\n",
    "        [\"There are numerous online learning platforms offering tech courses and certifications. Some popular options include Udemy, Coursera, edX, and Udacity. Consider researching and comparing these platforms to find the best fit for your needs.\"]\n",
    "    ],\n",
    "    [\n",
    "        r\"What should I consider before enrolling in a CodeAlpha program?\",\n",
    "        [\"Research course curriculums and project details->Look for independent reviews of the program->Compare costs with other learning platforms->Consider your learning goals and preferred format (e.g., self-paced vs. instructor-led).\"]\n",
    "    ],\n",
    "    [\n",
    "        r\"How can I learn more about CodeAlpha?\",\n",
    "        [\"You can visit their website https://www.codealpha.tech/ or contact them directly through their provided channels.\"]\n",
    "    ],\n",
    "    [\n",
    "        r\"What's your purpose?|Why do you exist?|What are you here for?\",\n",
    "        [\"My purpose is to assist and provide information about CodeAlpha.\"]\n",
    "    ],\n",
    "    [\n",
    "        r\"Tell me about codealpha company|About CodeAlpha\",\n",
    "        [\"CodeAlpha is an educational technology company based in Lucknow, India, that focuses on equipping individuals with practical skills in tech fields. Their primary offerings cater to those seeking to enter or advance in web development, app development, and various programming languages.They provide virtual internships designed for both beginner and advanced learners. These internships typically last for one or three months and involve working on real projects to solidify practical skills. CodeAlpha also offers courses, although specifics on these aren't readily available on their website. Their website, https://www.codealpha.tech/, provides more information about their programs and might be a good resource to explore if you are interested in learning more.\"]\n",
    "    ]\n",
    "]\n"
   ]
  },
  {
   "cell_type": "code",
   "execution_count": 3,
   "id": "6973f181",
   "metadata": {},
   "outputs": [
    {
     "data": {
      "text/plain": [
       "{'i am': 'you are',\n",
       " 'i was': 'you were',\n",
       " 'i': 'you',\n",
       " \"i'm\": 'you are',\n",
       " \"i'd\": 'you would',\n",
       " \"i've\": 'you have',\n",
       " \"i'll\": 'you will',\n",
       " 'my': 'your',\n",
       " 'you are': 'I am',\n",
       " 'you were': 'I was',\n",
       " \"you've\": 'I have',\n",
       " \"you'll\": 'I will',\n",
       " 'your': 'my',\n",
       " 'yours': 'mine',\n",
       " 'you': 'me',\n",
       " 'me': 'you'}"
      ]
     },
     "execution_count": 3,
     "metadata": {},
     "output_type": "execute_result"
    }
   ],
   "source": [
    "reflections"
   ]
  },
  {
   "cell_type": "code",
   "execution_count": null,
   "id": "216e4f3d",
   "metadata": {},
   "outputs": [
    {
     "name": "stdout",
     "output_type": "stream",
     "text": [
      "Please write anything to chat\n",
      ">Is CodeAlpha legit?\n",
      "None\n",
      "> Is CodeAlpha legit?\n",
      "While CodeAlpha advertises itself as a leader in Ed-Tech, there are mixed reviews online. Some users report positive experiences, while others mention concerns about the quality of the program and difficulty obtaining certificates. It's recommended to do your research before enrolling.\n",
      ">Why do you exist?\n",
      "My purpose is to assist and provide information about CodeAlpha.\n",
      ">Are there any alternatives to CodeAlpha?\n",
      "None\n",
      "> Are there any alternatives to CodeAlpha?\n",
      "There are numerous online learning platforms offering tech courses and certifications. Some popular options include Udemy, Coursera, edX, and Udacity. Consider researching and comparing these platforms to find the best fit for your needs.\n"
     ]
    }
   ],
   "source": [
    "print(\"Please write anything to chat\")\n",
    "chat=Chat(pairs)\n",
    "chat.converse()"
   ]
  },
  {
   "cell_type": "code",
   "execution_count": null,
   "id": "7a33ee11",
   "metadata": {},
   "outputs": [],
   "source": []
  },
  {
   "cell_type": "code",
   "execution_count": null,
   "id": "b332bfb4",
   "metadata": {},
   "outputs": [],
   "source": []
  }
 ],
 "metadata": {
  "kernelspec": {
   "display_name": "Python 3 (ipykernel)",
   "language": "python",
   "name": "python3"
  },
  "language_info": {
   "codemirror_mode": {
    "name": "ipython",
    "version": 3
   },
   "file_extension": ".py",
   "mimetype": "text/x-python",
   "name": "python",
   "nbconvert_exporter": "python",
   "pygments_lexer": "ipython3",
   "version": "3.11.5"
  }
 },
 "nbformat": 4,
 "nbformat_minor": 5
}
